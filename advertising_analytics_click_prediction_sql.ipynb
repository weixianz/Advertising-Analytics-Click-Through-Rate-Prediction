{
  "nbformat": 4,
  "nbformat_minor": 0,
  "metadata": {
    "name": "advertising-analytics-click-prediction-sql",
    "notebookId": 46476214330800,
    "colab": {
      "name": "advertising-analytics-click-prediction-sql.ipynb",
      "provenance": [],
      "collapsed_sections": []
    }
  },
  "cells": [
    {
      "cell_type": "markdown",
      "metadata": {
        "id": "fYVSoGGTRM0a",
        "colab_type": "text"
      },
      "source": [
        "# Advertising Analytics Click Prediction: ETL\n",
        "\n",
        "\n",
        "This is the SQL/Data exploration part for the Advertising Analytics Click notebooks.  For this stage, we will focus the Exploration of data."
      ]
    },
    {
      "cell_type": "code",
      "metadata": {
        "id": "E5tV9EhqRM0c",
        "colab_type": "code",
        "colab": {},
        "outputId": "e69c5df8-6cff-4270-849d-6a0c4249df2c"
      },
      "source": [
        "# Load parquet files: Dataframe and View\n",
        "impression = spark.read.parquet(\"/mnt/adtech/impression/parquet/train.csv/\")\n",
        "impression.createOrReplaceTempView(\"impression\")"
      ],
      "execution_count": 0,
      "outputs": [
        {
          "output_type": "display_data",
          "data": {
            "text/html": [
              "<style scoped>\n",
              "  .ansiout {\n",
              "    display: block;\n",
              "    unicode-bidi: embed;\n",
              "    white-space: pre-wrap;\n",
              "    word-wrap: break-word;\n",
              "    word-break: break-all;\n",
              "    font-family: \"Source Code Pro\", \"Menlo\", monospace;;\n",
              "    font-size: 13px;\n",
              "    color: #555;\n",
              "    margin-left: 4px;\n",
              "    line-height: 19px;\n",
              "  }\n",
              "</style>\n",
              "<div class=\"ansiout\"></div>"
            ]
          },
          "metadata": {
            "tags": []
          }
        }
      ]
    },
    {
      "cell_type": "code",
      "metadata": {
        "id": "_J7MCoC5RM0j",
        "colab_type": "code",
        "colab": {}
      },
      "source": [
        "%sql describe impression"
      ],
      "execution_count": 0,
      "outputs": []
    },
    {
      "cell_type": "code",
      "metadata": {
        "id": "hXAvjUe4RM0p",
        "colab_type": "code",
        "colab": {}
      },
      "source": [
        "# Banner Position\n",
        "%sql select banner_pos, count(1)\n",
        "from impression\n",
        "group by 1 order by 1"
      ],
      "execution_count": 0,
      "outputs": []
    },
    {
      "cell_type": "code",
      "metadata": {
        "id": "HHEjPOCtRM0s",
        "colab_type": "code",
        "colab": {}
      },
      "source": [
        "# click vs non-click for Banner Position\n",
        "%sql select banner_pos,\n",
        "sum(case when click = 1 then 1 else 0 end) as click,\n",
        "sum(case when click = 0 then 1 else 0 end) as no_click\n",
        "from impression group by 1 order by 1"
      ],
      "execution_count": 0,
      "outputs": []
    },
    {
      "cell_type": "code",
      "metadata": {
        "id": "GmDni0JKRM0u",
        "colab_type": "code",
        "colab": {}
      },
      "source": [
        "# CTR by banner_pos\n",
        "%sql select banner_pos,\n",
        "sum(case when click = 1 then 1 else 0 end) / (count(1) * 1.0) as CTR\n",
        "from impression group by 1 order by 1"
      ],
      "execution_count": 0,
      "outputs": []
    },
    {
      "cell_type": "code",
      "metadata": {
        "id": "nSO5d1kuRM0x",
        "colab_type": "code",
        "colab": {}
      },
      "source": [
        "# Device Type\n",
        "%sql select device_type, count(1)\n",
        "from impression\n",
        "group by 1 order by 1"
      ],
      "execution_count": 0,
      "outputs": []
    },
    {
      "cell_type": "code",
      "metadata": {
        "id": "EBWOCrTORM00",
        "colab_type": "code",
        "colab": {}
      },
      "source": [
        "# click vs non-click for Device Type\n",
        "%sql select device_type,\n",
        "sum(case when click = 1 then 1 else 0 end) as click,\n",
        "sum(case when click = 0 then 1 else 0 end) as no_click\n",
        "from impression group by 1 order by 1"
      ],
      "execution_count": 0,
      "outputs": []
    },
    {
      "cell_type": "code",
      "metadata": {
        "id": "YXc1lf2rRM05",
        "colab_type": "code",
        "colab": {}
      },
      "source": [
        "# CTR by device_type\n",
        "%sql select device_type,\n",
        "sum(case when click = 1 then 1 else 0 end) / (count(1) * 1.0) as CTR\n",
        "from impression group by 1 order by 1"
      ],
      "execution_count": 0,
      "outputs": []
    },
    {
      "cell_type": "code",
      "metadata": {
        "id": "CGGYazDLRM08",
        "colab_type": "code",
        "colab": {}
      },
      "source": [
        "# Site Category\n",
        "%sql select site_category, count(1) as count\n",
        "from impression\n",
        "group by 1 having count > 200 order by count desc"
      ],
      "execution_count": 0,
      "outputs": []
    },
    {
      "cell_type": "code",
      "metadata": {
        "id": "JaAumgNlRM0-",
        "colab_type": "code",
        "colab": {}
      },
      "source": [
        "# Click vs non-click for Site Category\n",
        "%sql select site_category,\n",
        "sum(case when click = 1 then 1 else 0 end) as click,\n",
        "sum(case when click = 0 then 1 else 0 end) as no_click\n",
        "from impression group by 1 order by 3 desc"
      ],
      "execution_count": 0,
      "outputs": []
    },
    {
      "cell_type": "code",
      "metadata": {
        "id": "3eZNXUNvRM1C",
        "colab_type": "code",
        "colab": {}
      },
      "source": [
        "# CTR by site_category\n",
        "%sql select site_category,\n",
        "sum(case when click = 1 then 1 else 0 end) / (count(1) * 1.0) as CTR\n",
        "from impression group by 1 order by 2 desc"
      ],
      "execution_count": 0,
      "outputs": []
    },
    {
      "cell_type": "code",
      "metadata": {
        "id": "cC9V04XvRM1E",
        "colab_type": "code",
        "colab": {}
      },
      "source": [
        "# Hour of day\n",
        "%sql select substr(hour, 7) as hour, \n",
        "count(1)\n",
        "from impression \n",
        "group by 1 order by 1"
      ],
      "execution_count": 0,
      "outputs": []
    },
    {
      "cell_type": "code",
      "metadata": {
        "id": "NLE820NvRM1G",
        "colab_type": "code",
        "colab": {}
      },
      "source": [
        "# Click vs non-click for Hour of day\n",
        "%sql select substr(hour, 7) as hour,\n",
        "sum(case when click = 1 then 1 else 0 end) as click,\n",
        "sum(case when click = 0 then 1 else 0 end) as no_click\n",
        "from impression group by 1 order by 1"
      ],
      "execution_count": 0,
      "outputs": []
    },
    {
      "cell_type": "code",
      "metadata": {
        "id": "V4ggqJyHRM1J",
        "colab_type": "code",
        "colab": {}
      },
      "source": [
        "# CTR by hour of day\n",
        "%sql select substr(hour, 7) as hour,\n",
        "sum(case when click = 1 then 1 else 0 end) / (count(1) * 1.0) as CTR\n",
        "from impression group by 1 order by 1"
      ],
      "execution_count": 0,
      "outputs": []
    },
    {
      "cell_type": "code",
      "metadata": {
        "id": "QZqYX7-JRM1L",
        "colab_type": "code",
        "colab": {}
      },
      "source": [
        "# Cardinality of distinct column values\n",
        "%sql select \n",
        "count(1) as total,\n",
        "\n",
        "count(distinct C1) as C1,\n",
        "count(distinct banner_pos) as banner_pos,\n",
        "count(distinct site_id) as site_id,\n",
        "count(distinct site_domain) as site_domain,\n",
        "count(distinct site_category) as site_category,\n",
        "count(distinct app_id) as app_id,\n",
        "count(distinct app_domain) as app_domain,\n",
        "count(distinct app_category) as app_category,\n",
        "count(distinct device_id) as device_id,\n",
        "count(distinct device_ip) as device_ip,\n",
        "count(distinct device_model) as device_model,\n",
        "count(distinct device_type) as device_type,\n",
        "count(distinct device_conn_type) as device_conn_type,\n",
        "count(distinct C14) as C14,\n",
        "count(distinct C15) as C15,\n",
        "count(distinct C16) as C16,\n",
        "count(distinct C17) as C17,\n",
        "count(distinct C18) as C18,\n",
        "count(distinct C19) as C19,\n",
        "count(distinct C20) as C20,\n",
        "count(distinct C21) as C21\n",
        "from impression\n"
      ],
      "execution_count": 0,
      "outputs": []
    },
    {
      "cell_type": "code",
      "metadata": {
        "id": "QJ0NAfqTRM1N",
        "colab_type": "code",
        "colab": {}
      },
      "source": [
        "display(impression.describe())"
      ],
      "execution_count": 0,
      "outputs": []
    }
  ]
}
