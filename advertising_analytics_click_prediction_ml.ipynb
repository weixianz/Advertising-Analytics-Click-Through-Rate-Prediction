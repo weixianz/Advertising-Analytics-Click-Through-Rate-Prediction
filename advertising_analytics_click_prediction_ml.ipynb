{
  "nbformat": 4,
  "nbformat_minor": 0,
  "metadata": {
    "name": "advertising-analytics-click-prediction-ml-gbt",
    "notebookId": 46476214330857,
    "colab": {
      "name": "advertising-analytics-click-prediction-ml-gbt.ipynb",
      "provenance": [],
      "collapsed_sections": []
    }
  },
  "cells": [
    {
      "cell_type": "markdown",
      "metadata": {
        "id": "NZd7-zjSQHF5",
        "colab_type": "text"
      },
      "source": [
        "# Advertising Analytics Click Prediction: ML\n",
        "https://www.kaggle.com/c/avazu-ctr-prediction/data\n",
        "\n",
        "\n",
        "\n",
        "This is the ML part for Advertising Analytics Click Prediction notebooks.  For this stage, we will focus on creating features and training and evaluating the ML model.\n",
        "\n"
      ]
    },
    {
      "cell_type": "code",
      "metadata": {
        "id": "jH770odLQHF7",
        "colab_type": "code",
        "colab": {},
        "outputId": "226c479a-4ad6-409b-93e0-b73d1ca71787"
      },
      "source": [
        "impression = spark.read \\\n",
        "  .parquet(\"/mnt/adtech/impression/parquet/train.csv/\") \\\n",
        "  .selectExpr(\"*\", \"substr(hour, 7) as hr\").repartition(64)"
      ],
      "execution_count": 0,
      "outputs": [
        {
          "output_type": "display_data",
          "data": {
            "text/html": [
              "<style scoped>\n",
              "  .ansiout {\n",
              "    display: block;\n",
              "    unicode-bidi: embed;\n",
              "    white-space: pre-wrap;\n",
              "    word-wrap: break-word;\n",
              "    word-break: break-all;\n",
              "    font-family: \"Source Code Pro\", \"Menlo\", monospace;;\n",
              "    font-size: 13px;\n",
              "    color: #555;\n",
              "    margin-left: 4px;\n",
              "    line-height: 19px;\n",
              "  }\n",
              "</style>\n",
              "<div class=\"ansiout\"></div>"
            ]
          },
          "metadata": {
            "tags": []
          }
        }
      ]
    },
    {
      "cell_type": "code",
      "metadata": {
        "id": "3raoClbkQHGA",
        "colab_type": "code",
        "colab": {},
        "outputId": "659f60d1-3421-4f1b-f917-a146aa4dc0cc"
      },
      "source": [
        "from pyspark.sql.functions import *\n",
        "\n",
        "strCols = map(lambda t: t[0], filter(lambda t: t[1] == 'string', impression.dtypes))\n",
        "intCols = map(lambda t: t[0], filter(lambda t: t[1] == 'int', impression.dtypes))\n",
        "\n",
        "# [row_idx][json_idx]\n",
        "strColsCount = sorted(map(lambda c: (c, impression.select(countDistinct(c)).collect()[0][0]), strCols), key=lambda x: x[1], reverse=True)\n",
        "intColsCount = sorted(map(lambda c: (c, impression.select(countDistinct(c)).collect()[0][0]), intCols), key=lambda x: x[1], reverse=True)"
      ],
      "execution_count": 0,
      "outputs": [
        {
          "output_type": "display_data",
          "data": {
            "text/html": [
              "<style scoped>\n",
              "  .ansiout {\n",
              "    display: block;\n",
              "    unicode-bidi: embed;\n",
              "    white-space: pre-wrap;\n",
              "    word-wrap: break-word;\n",
              "    word-break: break-all;\n",
              "    font-family: \"Source Code Pro\", \"Menlo\", monospace;;\n",
              "    font-size: 13px;\n",
              "    color: #555;\n",
              "    margin-left: 4px;\n",
              "    line-height: 19px;\n",
              "  }\n",
              "</style>\n",
              "<div class=\"ansiout\"></div>"
            ]
          },
          "metadata": {
            "tags": []
          }
        }
      ]
    },
    {
      "cell_type": "code",
      "metadata": {
        "id": "ys-ASvNUQHGN",
        "colab_type": "code",
        "colab": {}
      },
      "source": [
        "# distinct counts for str columns\n",
        "display(strColsCount)"
      ],
      "execution_count": 0,
      "outputs": []
    },
    {
      "cell_type": "code",
      "metadata": {
        "id": "xgLr-H66QHGR",
        "colab_type": "code",
        "colab": {}
      },
      "source": [
        "# distinct counts for int columns\n",
        "display(intColsCount)"
      ],
      "execution_count": 0,
      "outputs": []
    },
    {
      "cell_type": "code",
      "metadata": {
        "id": "gJziFu3dQHGc",
        "colab_type": "code",
        "colab": {},
        "outputId": "dc89fb69-1fd6-4ecb-cb74-86d8bc766abf"
      },
      "source": [
        "# Include PySpark Feature Engineering methods\n",
        "from pyspark.ml.feature import StringIndexer, VectorAssembler\n",
        "\n",
        "# All of the columns (string or integer) are categorical columns\n",
        "#  except for the [click] column\n",
        "maxBins = 70\n",
        "categorical = map(lambda c: c[0], filter(lambda c: c[1] <= maxBins, strColsCount))\n",
        "categorical += map(lambda c: c[0], filter(lambda c: c[1] <= maxBins, intColsCount))\n",
        "categorical.remove('click')\n",
        "\n",
        "# Apply string indexer to all of the categorical columns\n",
        "#  And add _idx to the column name to indicate the index of the categorical value\n",
        "stringIndexers = map(lambda c: StringIndexer(inputCol = c, outputCol = c + \"_idx\"), categorical)\n",
        "\n",
        "# Assemble the put as the input to the VectorAssembler \n",
        "#   with the output being our features\n",
        "assemblerInputs = map(lambda c: c + \"_idx\", categorical)\n",
        "vectorAssembler = VectorAssembler(inputCols = assemblerInputs, outputCol = \"features\")\n",
        "\n",
        "# The [click] column is our label \n",
        "labelStringIndexer = StringIndexer(inputCol = \"click\", outputCol = \"label\")\n",
        "\n",
        "# The stages of our ML pipeline \n",
        "stages = stringIndexers + [vectorAssembler, labelStringIndexer]"
      ],
      "execution_count": 0,
      "outputs": [
        {
          "output_type": "display_data",
          "data": {
            "text/html": [
              "<style scoped>\n",
              "  .ansiout {\n",
              "    display: block;\n",
              "    unicode-bidi: embed;\n",
              "    white-space: pre-wrap;\n",
              "    word-wrap: break-word;\n",
              "    word-break: break-all;\n",
              "    font-family: \"Source Code Pro\", \"Menlo\", monospace;;\n",
              "    font-size: 13px;\n",
              "    color: #555;\n",
              "    margin-left: 4px;\n",
              "    line-height: 19px;\n",
              "  }\n",
              "</style>\n",
              "<div class=\"ansiout\"></div>"
            ]
          },
          "metadata": {
            "tags": []
          }
        }
      ]
    },
    {
      "cell_type": "code",
      "metadata": {
        "id": "AaTVpCyGQHGf",
        "colab_type": "code",
        "colab": {},
        "outputId": "3977ff0c-fb06-47d3-fb9f-3a686c808c09"
      },
      "source": [
        "from pyspark.ml import Pipeline\n",
        "\n",
        "# Create our pipeline\n",
        "pipeline = Pipeline(stages = stages)\n",
        "\n",
        "# create transformer to add features\n",
        "featurizer = pipeline.fit(impression)"
      ],
      "execution_count": 0,
      "outputs": [
        {
          "output_type": "display_data",
          "data": {
            "text/html": [
              "<style scoped>\n",
              "  .ansiout {\n",
              "    display: block;\n",
              "    unicode-bidi: embed;\n",
              "    white-space: pre-wrap;\n",
              "    word-wrap: break-word;\n",
              "    word-break: break-all;\n",
              "    font-family: \"Source Code Pro\", \"Menlo\", monospace;;\n",
              "    font-size: 13px;\n",
              "    color: #555;\n",
              "    margin-left: 4px;\n",
              "    line-height: 19px;\n",
              "  }\n",
              "</style>\n",
              "<div class=\"ansiout\"></div>"
            ]
          },
          "metadata": {
            "tags": []
          }
        }
      ]
    },
    {
      "cell_type": "code",
      "metadata": {
        "id": "E95thaX9QHGi",
        "colab_type": "code",
        "colab": {},
        "outputId": "f5399ffc-07eb-4d61-b509-e610b28a28a7"
      },
      "source": [
        "# dataframe with feature and intermediate transformation columns appended\n",
        "featurizedImpressions = featurizer.transform(impression)"
      ],
      "execution_count": 0,
      "outputs": [
        {
          "output_type": "display_data",
          "data": {
            "text/html": [
              "<style scoped>\n",
              "  .ansiout {\n",
              "    display: block;\n",
              "    unicode-bidi: embed;\n",
              "    white-space: pre-wrap;\n",
              "    word-wrap: break-word;\n",
              "    word-break: break-all;\n",
              "    font-family: \"Source Code Pro\", \"Menlo\", monospace;;\n",
              "    font-size: 13px;\n",
              "    color: #555;\n",
              "    margin-left: 4px;\n",
              "    line-height: 19px;\n",
              "  }\n",
              "</style>\n",
              "<div class=\"ansiout\"></div>"
            ]
          },
          "metadata": {
            "tags": []
          }
        }
      ]
    },
    {
      "cell_type": "code",
      "metadata": {
        "id": "UqEEw7pmQHGl",
        "colab_type": "code",
        "colab": {}
      },
      "source": [
        "display(featurizedImpressions.select('features', 'label'))"
      ],
      "execution_count": 0,
      "outputs": []
    },
    {
      "cell_type": "code",
      "metadata": {
        "id": "zGvtC6SUQHGn",
        "colab_type": "code",
        "colab": {}
      },
      "source": [
        "train, test = featurizedImpressions \\\n",
        "  .select([\"label\", \"features\", \"hr\"]) \\\n",
        "  .randomSplit([0.7, 0.3], 42)\n",
        "train.cache()\n",
        "test.cache()"
      ],
      "execution_count": 0,
      "outputs": []
    },
    {
      "cell_type": "code",
      "metadata": {
        "id": "MGbKsbSrQHGq",
        "colab_type": "code",
        "colab": {},
        "outputId": "c4451803-0eda-4b2b-9955-9bffb22bd076"
      },
      "source": [
        "from pyspark.ml.classification import GBTClassifier\n",
        "\n",
        "# Train our GBTClassifier model \n",
        "classifier = GBTClassifier(labelCol=\"label\", featuresCol=\"features\", maxBins=maxBins, maxDepth=10, maxIter=10)\n",
        "model = classifier.fit(train)"
      ],
      "execution_count": 0,
      "outputs": [
        {
          "output_type": "display_data",
          "data": {
            "text/html": [
              "<style scoped>\n",
              "  .ansiout {\n",
              "    display: block;\n",
              "    unicode-bidi: embed;\n",
              "    white-space: pre-wrap;\n",
              "    word-wrap: break-word;\n",
              "    word-break: break-all;\n",
              "    font-family: \"Source Code Pro\", \"Menlo\", monospace;;\n",
              "    font-size: 13px;\n",
              "    color: #555;\n",
              "    margin-left: 4px;\n",
              "    line-height: 19px;\n",
              "  }\n",
              "</style>\n",
              "<div class=\"ansiout\"></div>"
            ]
          },
          "metadata": {
            "tags": []
          }
        }
      ]
    },
    {
      "cell_type": "code",
      "metadata": {
        "id": "7UzGUJ5sQHGs",
        "colab_type": "code",
        "colab": {},
        "outputId": "a3ee343d-33f2-4912-b3be-9d0b91b84833"
      },
      "source": [
        "# Execute our predictions\n",
        "predictions = model.transform(test)"
      ],
      "execution_count": 0,
      "outputs": [
        {
          "output_type": "display_data",
          "data": {
            "text/html": [
              "<style scoped>\n",
              "  .ansiout {\n",
              "    display: block;\n",
              "    unicode-bidi: embed;\n",
              "    white-space: pre-wrap;\n",
              "    word-wrap: break-word;\n",
              "    word-break: break-all;\n",
              "    font-family: \"Source Code Pro\", \"Menlo\", monospace;;\n",
              "    font-size: 13px;\n",
              "    color: #555;\n",
              "    margin-left: 4px;\n",
              "    line-height: 19px;\n",
              "  }\n",
              "</style>\n",
              "<div class=\"ansiout\"></div>"
            ]
          },
          "metadata": {
            "tags": []
          }
        }
      ]
    },
    {
      "cell_type": "code",
      "metadata": {
        "id": "T1qB7vAzQHGx",
        "colab_type": "code",
        "colab": {}
      },
      "source": [
        "from pyspark.ml.evaluation import BinaryClassificationEvaluator\n",
        "\n",
        "# Evaluate our GBTClassifier model using BinaryClassificationEvaluator()\n",
        "ev = BinaryClassificationEvaluator(rawPredictionCol=\"rawPrediction\", metricName=\"areaUnderROC\")\n",
        "print ev.evaluate(predictions)"
      ],
      "execution_count": 0,
      "outputs": []
    },
    {
      "cell_type": "code",
      "metadata": {
        "id": "oEKWQsJQQHG0",
        "colab_type": "code",
        "colab": {},
        "outputId": "3196d6ce-cce9-4612-d6b8-a912358c3a91"
      },
      "source": [
        "import json\n",
        "features = map(lambda c: str(json.loads(json.dumps(c))['name']), \\\n",
        "               predictions.schema['features'].metadata.get('ml_attr').get('attrs').values()[0])\n",
        "# convert numpy.float64 to str for spark.createDataFrame()\n",
        "weights=map(lambda w: '%.10f' % w, model.featureImportances)\n",
        "weightedFeatures = sorted(zip(weights, features), key=lambda x: x[1], reverse=True)\n",
        "spark.createDataFrame(weightedFeatures).toDF(\"weight\", \"feature\").createOrReplaceTempView('wf')"
      ],
      "execution_count": 0,
      "outputs": [
        {
          "output_type": "display_data",
          "data": {
            "text/html": [
              "<style scoped>\n",
              "  .ansiout {\n",
              "    display: block;\n",
              "    unicode-bidi: embed;\n",
              "    white-space: pre-wrap;\n",
              "    word-wrap: break-word;\n",
              "    word-break: break-all;\n",
              "    font-family: \"Source Code Pro\", \"Menlo\", monospace;;\n",
              "    font-size: 13px;\n",
              "    color: #555;\n",
              "    margin-left: 4px;\n",
              "    line-height: 19px;\n",
              "  }\n",
              "</style>\n",
              "<div class=\"ansiout\"></div>"
            ]
          },
          "metadata": {
            "tags": []
          }
        }
      ]
    },
    {
      "cell_type": "code",
      "metadata": {
        "id": "6dcmj8joQHG3",
        "colab_type": "code",
        "colab": {}
      },
      "source": [
        "%sql \n",
        "select feature, weight \n",
        "from wf \n",
        "order by weight desc"
      ],
      "execution_count": 0,
      "outputs": []
    },
    {
      "cell_type": "code",
      "metadata": {
        "id": "ZLsvV7g5QHG5",
        "colab_type": "code",
        "colab": {},
        "outputId": "bda7f9d2-9e2a-4ffe-fd72-8f8772b1858f"
      },
      "source": [
        "predictions.createOrReplaceTempView(\"predictions\")"
      ],
      "execution_count": 0,
      "outputs": [
        {
          "output_type": "display_data",
          "data": {
            "text/html": [
              "<style scoped>\n",
              "  .ansiout {\n",
              "    display: block;\n",
              "    unicode-bidi: embed;\n",
              "    white-space: pre-wrap;\n",
              "    word-wrap: break-word;\n",
              "    word-break: break-all;\n",
              "    font-family: \"Source Code Pro\", \"Menlo\", monospace;;\n",
              "    font-size: 13px;\n",
              "    color: #555;\n",
              "    margin-left: 4px;\n",
              "    line-height: 19px;\n",
              "  }\n",
              "</style>\n",
              "<div class=\"ansiout\"></div>"
            ]
          },
          "metadata": {
            "tags": []
          }
        }
      ]
    },
    {
      "cell_type": "code",
      "metadata": {
        "id": "r0vsXoCSQHG7",
        "colab_type": "code",
        "colab": {}
      },
      "source": [
        "%sql describe predictions"
      ],
      "execution_count": 0,
      "outputs": []
    },
    {
      "cell_type": "code",
      "metadata": {
        "id": "mTybDjWDQHG-",
        "colab_type": "code",
        "colab": {}
      },
      "source": [
        "%sql select sum(case when prediction = label then 1 else 0 end) / (count(1) * 1.0) as accuracy\n",
        "from predictions"
      ],
      "execution_count": 0,
      "outputs": []
    }
  ]
}
